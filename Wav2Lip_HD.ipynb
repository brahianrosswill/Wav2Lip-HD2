{
  "cells": [
    {
      "cell_type": "code",
      "execution_count": 1,
      "metadata": {
        "colab": {
          "base_uri": "https://localhost:8080/"
        },
        "id": "IyIr538iyK3B",
        "outputId": "ff6125be-cf39-4fbb-bcbb-8c97b83f6d0c"
      },
      "outputs": [
        {
          "name": "stdout",
          "output_type": "stream",
          "text": [
            "Cloning into 'Wav2Lip-HD'...\n",
            "remote: Enumerating objects: 496, done.\u001b[K\n",
            "remote: Counting objects: 100% (139/139), done.\u001b[K\n",
            "remote: Compressing objects: 100% (111/111), done.\u001b[K\n",
            "remote: Total 496 (delta 31), reused 126 (delta 22), pack-reused 357\u001b[K\n",
            "Receiving objects: 100% (496/496), 68.58 MiB | 31.68 MiB/s, done.\n",
            "Resolving deltas: 100% (66/66), done.\n",
            "/content/Wav2Lip-HD\n",
            "Collecting addict (from -r requirements.txt (line 1))\n",
            "  Downloading addict-2.4.0-py3-none-any.whl (3.8 kB)\n",
            "Requirement already satisfied: future in /usr/local/lib/python3.10/dist-packages (from -r requirements.txt (line 2)) (0.18.3)\n",
            "Collecting librosa==0.8.1 (from -r requirements.txt (line 3))\n",
            "  Downloading librosa-0.8.1-py3-none-any.whl (203 kB)\n",
            "\u001b[2K     \u001b[90m━━━━━━━━━━━━━━━━━━━━━━━━━━━━━━━━━━━━━━━━\u001b[0m \u001b[32m203.8/203.8 kB\u001b[0m \u001b[31m3.3 MB/s\u001b[0m eta \u001b[36m0:00:00\u001b[0m\n",
            "\u001b[?25hCollecting lmdb (from -r requirements.txt (line 4))\n",
            "  Downloading lmdb-1.4.1-cp310-cp310-manylinux_2_17_x86_64.manylinux2014_x86_64.whl (299 kB)\n",
            "\u001b[2K     \u001b[90m━━━━━━━━━━━━━━━━━━━━━━━━━━━━━━━━━━━━━━━━\u001b[0m \u001b[32m299.2/299.2 kB\u001b[0m \u001b[31m20.2 MB/s\u001b[0m eta \u001b[36m0:00:00\u001b[0m\n",
            "\u001b[?25hRequirement already satisfied: numba==0.56.4 in /usr/local/lib/python3.10/dist-packages (from -r requirements.txt (line 5)) (0.56.4)\n",
            "Requirement already satisfied: numpy<1.24.1 in /usr/local/lib/python3.10/dist-packages (from -r requirements.txt (line 6)) (1.23.5)\n",
            "Requirement already satisfied: opencv-contrib-python>=4.2.0.34 in /usr/local/lib/python3.10/dist-packages (from -r requirements.txt (line 7)) (4.8.0.76)\n",
            "Collecting opencv-python==4.7.0.72 (from -r requirements.txt (line 8))\n",
            "  Downloading opencv_python-4.7.0.72-cp37-abi3-manylinux_2_17_x86_64.manylinux2014_x86_64.whl (61.8 MB)\n",
            "\u001b[2K     \u001b[90m━━━━━━━━━━━━━━━━━━━━━━━━━━━━━━━━━━━━━━━━\u001b[0m \u001b[32m61.8/61.8 MB\u001b[0m \u001b[31m8.6 MB/s\u001b[0m eta \u001b[36m0:00:00\u001b[0m\n",
            "\u001b[?25hRequirement already satisfied: Pillow in /usr/local/lib/python3.10/dist-packages (from -r requirements.txt (line 9)) (9.4.0)\n",
            "Requirement already satisfied: pyyaml in /usr/local/lib/python3.10/dist-packages (from -r requirements.txt (line 10)) (6.0.1)\n",
            "Requirement already satisfied: requests in /usr/local/lib/python3.10/dist-packages (from -r requirements.txt (line 11)) (2.31.0)\n",
            "Requirement already satisfied: scikit-image in /usr/local/lib/python3.10/dist-packages (from -r requirements.txt (line 12)) (0.19.3)\n",
            "Requirement already satisfied: scipy in /usr/local/lib/python3.10/dist-packages (from -r requirements.txt (line 13)) (1.11.3)\n",
            "Collecting tb-nightly (from -r requirements.txt (line 14))\n",
            "  Downloading tb_nightly-2.15.0a20231019-py3-none-any.whl (5.6 MB)\n",
            "\u001b[2K     \u001b[90m━━━━━━━━━━━━━━━━━━━━━━━━━━━━━━━━━━━━━━━━\u001b[0m \u001b[32m5.6/5.6 MB\u001b[0m \u001b[31m94.4 MB/s\u001b[0m eta \u001b[36m0:00:00\u001b[0m\n",
            "\u001b[?25hRequirement already satisfied: torch>=1.7 in /usr/local/lib/python3.10/dist-packages (from -r requirements.txt (line 15)) (2.1.0+cu118)\n",
            "Requirement already satisfied: torchvision>=>=0.8.2 in /usr/local/lib/python3.10/dist-packages (from -r requirements.txt (line 16)) (0.16.0+cu118)\n",
            "Collecting tqdm==4.48 (from -r requirements.txt (line 17))\n",
            "  Downloading tqdm-4.48.0-py2.py3-none-any.whl (67 kB)\n",
            "\u001b[2K     \u001b[90m━━━━━━━━━━━━━━━━━━━━━━━━━━━━━━━━━━━━━━━━\u001b[0m \u001b[32m67.8/67.8 kB\u001b[0m \u001b[31m8.9 MB/s\u001b[0m eta \u001b[36m0:00:00\u001b[0m\n",
            "\u001b[?25hCollecting yapf (from -r requirements.txt (line 18))\n",
            "  Downloading yapf-0.40.2-py3-none-any.whl (254 kB)\n",
            "\u001b[2K     \u001b[90m━━━━━━━━━━━━━━━━━━━━━━━━━━━━━━━━━━━━━━━━\u001b[0m \u001b[32m254.7/254.7 kB\u001b[0m \u001b[31m26.6 MB/s\u001b[0m eta \u001b[36m0:00:00\u001b[0m\n",
            "\u001b[?25hCollecting basicsr>=1.3.4.0 (from -r requirements.txt (line 20))\n",
            "  Downloading basicsr-1.4.2.tar.gz (172 kB)\n",
            "\u001b[2K     \u001b[90m━━━━━━━━━━━━━━━━━━━━━━━━━━━━━━━━━━━━━━━━\u001b[0m \u001b[32m172.5/172.5 kB\u001b[0m \u001b[31m20.0 MB/s\u001b[0m eta \u001b[36m0:00:00\u001b[0m\n",
            "\u001b[?25h  Preparing metadata (setup.py) ... \u001b[?25l\u001b[?25hdone\n",
            "Collecting facexlib>=0.2.3 (from -r requirements.txt (line 21))\n",
            "  Downloading facexlib-0.3.0-py3-none-any.whl (59 kB)\n",
            "\u001b[2K     \u001b[90m━━━━━━━━━━━━━━━━━━━━━━━━━━━━━━━━━━━━━━━━\u001b[0m \u001b[32m59.6/59.6 kB\u001b[0m \u001b[31m7.1 MB/s\u001b[0m eta \u001b[36m0:00:00\u001b[0m\n",
            "\u001b[?25hCollecting gfpgan>=1.3.5 (from -r requirements.txt (line 22))\n",
            "  Downloading gfpgan-1.3.8-py3-none-any.whl (52 kB)\n",
            "\u001b[2K     \u001b[90m━━━━━━━━━━━━━━━━━━━━━━━━━━━━━━━━━━━━━━━━\u001b[0m \u001b[32m52.2/52.2 kB\u001b[0m \u001b[31m5.9 MB/s\u001b[0m eta \u001b[36m0:00:00\u001b[0m\n",
            "\u001b[?25hRequirement already satisfied: audioread>=2.0.0 in /usr/local/lib/python3.10/dist-packages (from librosa==0.8.1->-r requirements.txt (line 3)) (3.0.1)\n",
            "Requirement already satisfied: scikit-learn!=0.19.0,>=0.14.0 in /usr/local/lib/python3.10/dist-packages (from librosa==0.8.1->-r requirements.txt (line 3)) (1.2.2)\n",
            "Requirement already satisfied: joblib>=0.14 in /usr/local/lib/python3.10/dist-packages (from librosa==0.8.1->-r requirements.txt (line 3)) (1.3.2)\n",
            "Requirement already satisfied: decorator>=3.0.0 in /usr/local/lib/python3.10/dist-packages (from librosa==0.8.1->-r requirements.txt (line 3)) (4.4.2)\n",
            "Collecting resampy>=0.2.2 (from librosa==0.8.1->-r requirements.txt (line 3))\n",
            "  Downloading resampy-0.4.2-py3-none-any.whl (3.1 MB)\n",
            "\u001b[2K     \u001b[90m━━━━━━━━━━━━━━━━━━━━━━━━━━━━━━━━━━━━━━━━\u001b[0m \u001b[32m3.1/3.1 MB\u001b[0m \u001b[31m68.5 MB/s\u001b[0m eta \u001b[36m0:00:00\u001b[0m\n",
            "\u001b[?25hRequirement already satisfied: soundfile>=0.10.2 in /usr/local/lib/python3.10/dist-packages (from librosa==0.8.1->-r requirements.txt (line 3)) (0.12.1)\n",
            "Requirement already satisfied: pooch>=1.0 in /usr/local/lib/python3.10/dist-packages (from librosa==0.8.1->-r requirements.txt (line 3)) (1.7.0)\n",
            "Requirement already satisfied: packaging>=20.0 in /usr/local/lib/python3.10/dist-packages (from librosa==0.8.1->-r requirements.txt (line 3)) (23.2)\n",
            "Requirement already satisfied: llvmlite<0.40,>=0.39.0dev0 in /usr/local/lib/python3.10/dist-packages (from numba==0.56.4->-r requirements.txt (line 5)) (0.39.1)\n",
            "Requirement already satisfied: setuptools in /usr/local/lib/python3.10/dist-packages (from numba==0.56.4->-r requirements.txt (line 5)) (67.7.2)\n",
            "Requirement already satisfied: charset-normalizer<4,>=2 in /usr/local/lib/python3.10/dist-packages (from requests->-r requirements.txt (line 11)) (3.3.0)\n",
            "Requirement already satisfied: idna<4,>=2.5 in /usr/local/lib/python3.10/dist-packages (from requests->-r requirements.txt (line 11)) (3.4)\n",
            "Requirement already satisfied: urllib3<3,>=1.21.1 in /usr/local/lib/python3.10/dist-packages (from requests->-r requirements.txt (line 11)) (2.0.7)\n",
            "Requirement already satisfied: certifi>=2017.4.17 in /usr/local/lib/python3.10/dist-packages (from requests->-r requirements.txt (line 11)) (2023.7.22)\n",
            "Requirement already satisfied: networkx>=2.2 in /usr/local/lib/python3.10/dist-packages (from scikit-image->-r requirements.txt (line 12)) (3.1)\n",
            "Requirement already satisfied: imageio>=2.4.1 in /usr/local/lib/python3.10/dist-packages (from scikit-image->-r requirements.txt (line 12)) (2.31.5)\n",
            "Requirement already satisfied: tifffile>=2019.7.26 in /usr/local/lib/python3.10/dist-packages (from scikit-image->-r requirements.txt (line 12)) (2023.9.26)\n",
            "Requirement already satisfied: PyWavelets>=1.1.1 in /usr/local/lib/python3.10/dist-packages (from scikit-image->-r requirements.txt (line 12)) (1.4.1)\n",
            "Requirement already satisfied: absl-py>=0.4 in /usr/local/lib/python3.10/dist-packages (from tb-nightly->-r requirements.txt (line 14)) (1.4.0)\n",
            "Requirement already satisfied: grpcio>=1.48.2 in /usr/local/lib/python3.10/dist-packages (from tb-nightly->-r requirements.txt (line 14)) (1.59.0)\n",
            "Requirement already satisfied: google-auth<3,>=1.6.3 in /usr/local/lib/python3.10/dist-packages (from tb-nightly->-r requirements.txt (line 14)) (2.17.3)\n",
            "Collecting google-auth-oauthlib<2,>=0.5 (from tb-nightly->-r requirements.txt (line 14))\n",
            "  Downloading google_auth_oauthlib-1.1.0-py2.py3-none-any.whl (19 kB)\n",
            "Requirement already satisfied: markdown>=2.6.8 in /usr/local/lib/python3.10/dist-packages (from tb-nightly->-r requirements.txt (line 14)) (3.5)\n",
            "Requirement already satisfied: protobuf<4.24,>=3.19.6 in /usr/local/lib/python3.10/dist-packages (from tb-nightly->-r requirements.txt (line 14)) (3.20.3)\n",
            "Requirement already satisfied: six>1.9 in /usr/local/lib/python3.10/dist-packages (from tb-nightly->-r requirements.txt (line 14)) (1.16.0)\n",
            "Requirement already satisfied: tensorboard-data-server<0.8.0,>=0.7.0 in /usr/local/lib/python3.10/dist-packages (from tb-nightly->-r requirements.txt (line 14)) (0.7.1)\n",
            "Requirement already satisfied: werkzeug>=1.0.1 in /usr/local/lib/python3.10/dist-packages (from tb-nightly->-r requirements.txt (line 14)) (3.0.0)\n",
            "Requirement already satisfied: filelock in /usr/local/lib/python3.10/dist-packages (from torch>=1.7->-r requirements.txt (line 15)) (3.12.4)\n",
            "Requirement already satisfied: typing-extensions in /usr/local/lib/python3.10/dist-packages (from torch>=1.7->-r requirements.txt (line 15)) (4.5.0)\n",
            "Requirement already satisfied: sympy in /usr/local/lib/python3.10/dist-packages (from torch>=1.7->-r requirements.txt (line 15)) (1.12)\n",
            "Requirement already satisfied: jinja2 in /usr/local/lib/python3.10/dist-packages (from torch>=1.7->-r requirements.txt (line 15)) (3.1.2)\n",
            "Requirement already satisfied: fsspec in /usr/local/lib/python3.10/dist-packages (from torch>=1.7->-r requirements.txt (line 15)) (2023.6.0)\n",
            "Requirement already satisfied: triton==2.1.0 in /usr/local/lib/python3.10/dist-packages (from torch>=1.7->-r requirements.txt (line 15)) (2.1.0)\n",
            "Requirement already satisfied: importlib-metadata>=6.6.0 in /usr/local/lib/python3.10/dist-packages (from yapf->-r requirements.txt (line 18)) (6.8.0)\n",
            "Requirement already satisfied: platformdirs>=3.5.1 in /usr/local/lib/python3.10/dist-packages (from yapf->-r requirements.txt (line 18)) (3.11.0)\n",
            "Requirement already satisfied: tomli>=2.0.1 in /usr/local/lib/python3.10/dist-packages (from yapf->-r requirements.txt (line 18)) (2.0.1)\n",
            "Collecting filterpy (from facexlib>=0.2.3->-r requirements.txt (line 21))\n",
            "  Downloading filterpy-1.4.5.zip (177 kB)\n",
            "\u001b[2K     \u001b[90m━━━━━━━━━━━━━━━━━━━━━━━━━━━━━━━━━━━━━━━━\u001b[0m \u001b[32m178.0/178.0 kB\u001b[0m \u001b[31m19.5 MB/s\u001b[0m eta \u001b[36m0:00:00\u001b[0m\n",
            "\u001b[?25h  Preparing metadata (setup.py) ... \u001b[?25l\u001b[?25hdone\n",
            "Requirement already satisfied: cachetools<6.0,>=2.0.0 in /usr/local/lib/python3.10/dist-packages (from google-auth<3,>=1.6.3->tb-nightly->-r requirements.txt (line 14)) (5.3.1)\n",
            "Requirement already satisfied: pyasn1-modules>=0.2.1 in /usr/local/lib/python3.10/dist-packages (from google-auth<3,>=1.6.3->tb-nightly->-r requirements.txt (line 14)) (0.3.0)\n",
            "Requirement already satisfied: rsa<5,>=3.1.4 in /usr/local/lib/python3.10/dist-packages (from google-auth<3,>=1.6.3->tb-nightly->-r requirements.txt (line 14)) (4.9)\n",
            "Requirement already satisfied: requests-oauthlib>=0.7.0 in /usr/local/lib/python3.10/dist-packages (from google-auth-oauthlib<2,>=0.5->tb-nightly->-r requirements.txt (line 14)) (1.3.1)\n",
            "Requirement already satisfied: zipp>=0.5 in /usr/local/lib/python3.10/dist-packages (from importlib-metadata>=6.6.0->yapf->-r requirements.txt (line 18)) (3.17.0)\n",
            "Requirement already satisfied: threadpoolctl>=2.0.0 in /usr/local/lib/python3.10/dist-packages (from scikit-learn!=0.19.0,>=0.14.0->librosa==0.8.1->-r requirements.txt (line 3)) (3.2.0)\n",
            "Requirement already satisfied: cffi>=1.0 in /usr/local/lib/python3.10/dist-packages (from soundfile>=0.10.2->librosa==0.8.1->-r requirements.txt (line 3)) (1.16.0)\n",
            "Requirement already satisfied: MarkupSafe>=2.1.1 in /usr/local/lib/python3.10/dist-packages (from werkzeug>=1.0.1->tb-nightly->-r requirements.txt (line 14)) (2.1.3)\n",
            "Requirement already satisfied: matplotlib in /usr/local/lib/python3.10/dist-packages (from filterpy->facexlib>=0.2.3->-r requirements.txt (line 21)) (3.7.1)\n",
            "Requirement already satisfied: mpmath>=0.19 in /usr/local/lib/python3.10/dist-packages (from sympy->torch>=1.7->-r requirements.txt (line 15)) (1.3.0)\n",
            "Requirement already satisfied: pycparser in /usr/local/lib/python3.10/dist-packages (from cffi>=1.0->soundfile>=0.10.2->librosa==0.8.1->-r requirements.txt (line 3)) (2.21)\n",
            "Requirement already satisfied: pyasn1<0.6.0,>=0.4.6 in /usr/local/lib/python3.10/dist-packages (from pyasn1-modules>=0.2.1->google-auth<3,>=1.6.3->tb-nightly->-r requirements.txt (line 14)) (0.5.0)\n",
            "Requirement already satisfied: oauthlib>=3.0.0 in /usr/local/lib/python3.10/dist-packages (from requests-oauthlib>=0.7.0->google-auth-oauthlib<2,>=0.5->tb-nightly->-r requirements.txt (line 14)) (3.2.2)\n",
            "Requirement already satisfied: contourpy>=1.0.1 in /usr/local/lib/python3.10/dist-packages (from matplotlib->filterpy->facexlib>=0.2.3->-r requirements.txt (line 21)) (1.1.1)\n",
            "Requirement already satisfied: cycler>=0.10 in /usr/local/lib/python3.10/dist-packages (from matplotlib->filterpy->facexlib>=0.2.3->-r requirements.txt (line 21)) (0.12.1)\n",
            "Requirement already satisfied: fonttools>=4.22.0 in /usr/local/lib/python3.10/dist-packages (from matplotlib->filterpy->facexlib>=0.2.3->-r requirements.txt (line 21)) (4.43.1)\n",
            "Requirement already satisfied: kiwisolver>=1.0.1 in /usr/local/lib/python3.10/dist-packages (from matplotlib->filterpy->facexlib>=0.2.3->-r requirements.txt (line 21)) (1.4.5)\n",
            "Requirement already satisfied: pyparsing>=2.3.1 in /usr/local/lib/python3.10/dist-packages (from matplotlib->filterpy->facexlib>=0.2.3->-r requirements.txt (line 21)) (3.1.1)\n",
            "Requirement already satisfied: python-dateutil>=2.7 in /usr/local/lib/python3.10/dist-packages (from matplotlib->filterpy->facexlib>=0.2.3->-r requirements.txt (line 21)) (2.8.2)\n",
            "Building wheels for collected packages: basicsr, filterpy\n",
            "  Building wheel for basicsr (setup.py) ... \u001b[?25l\u001b[?25hdone\n",
            "  Created wheel for basicsr: filename=basicsr-1.4.2-py3-none-any.whl size=214817 sha256=715110c9a7b10553af3d85456dc1ad1ee78653c5b4e92ab7f99c2fbc56652619\n",
            "  Stored in directory: /root/.cache/pip/wheels/38/83/99/2d8437cc652a01af27df5ff037a4075e95b52d67705c5f30ca\n",
            "  Building wheel for filterpy (setup.py) ... \u001b[?25l\u001b[?25hdone\n",
            "  Created wheel for filterpy: filename=filterpy-1.4.5-py3-none-any.whl size=110459 sha256=7310380fe19a7709de460c09ef029bc0d67a0a286b9daa6681b0b68c0905ab64\n",
            "  Stored in directory: /root/.cache/pip/wheels/0f/0c/ea/218f266af4ad626897562199fbbcba521b8497303200186102\n",
            "Successfully built basicsr filterpy\n",
            "Installing collected packages: lmdb, addict, tqdm, opencv-python, yapf, resampy, librosa, google-auth-oauthlib, filterpy, tb-nightly, facexlib, basicsr, gfpgan\n",
            "  Attempting uninstall: tqdm\n",
            "    Found existing installation: tqdm 4.66.1\n",
            "    Uninstalling tqdm-4.66.1:\n",
            "      Successfully uninstalled tqdm-4.66.1\n",
            "  Attempting uninstall: opencv-python\n",
            "    Found existing installation: opencv-python 4.8.0.76\n",
            "    Uninstalling opencv-python-4.8.0.76:\n",
            "      Successfully uninstalled opencv-python-4.8.0.76\n",
            "  Attempting uninstall: librosa\n",
            "    Found existing installation: librosa 0.10.1\n",
            "    Uninstalling librosa-0.10.1:\n",
            "      Successfully uninstalled librosa-0.10.1\n",
            "  Attempting uninstall: google-auth-oauthlib\n",
            "    Found existing installation: google-auth-oauthlib 0.4.6\n",
            "    Uninstalling google-auth-oauthlib-0.4.6:\n",
            "      Successfully uninstalled google-auth-oauthlib-0.4.6\n",
            "\u001b[31mERROR: pip's dependency resolver does not currently take into account all the packages that are installed. This behaviour is the source of the following dependency conflicts.\n",
            "tensorboard 2.12.0 requires google-auth-oauthlib<0.5,>=0.4.1, but you have google-auth-oauthlib 1.1.0 which is incompatible.\u001b[0m\u001b[31m\n",
            "\u001b[0mSuccessfully installed addict-2.4.0 basicsr-1.4.2 facexlib-0.3.0 filterpy-1.4.5 gfpgan-1.3.8 google-auth-oauthlib-1.1.0 librosa-0.8.1 lmdb-1.4.1 opencv-python-4.7.0.72 resampy-0.4.2 tb-nightly-2.15.0a20231019 tqdm-4.48.0 yapf-0.40.2\n"
          ]
        }
      ],
      "source": [
        "!git clone https://github.com/naisongwen/Wav2Lip-HD.git\n",
        "%cd Wav2Lip-HD\n",
        "!pip install -r requirements.txt"
      ]
    },
    {
      "cell_type": "code",
      "execution_count": null,
      "metadata": {},
      "outputs": [],
      "source": [
        "!python -m pip install tb-nightly -i https://mirrors.aliyun.com/pypi/simple\n",
        "!python -m pip config set global.index-url https://mirrors.aliyun.com/pypi/simple"
      ]
    },
    {
      "cell_type": "code",
      "execution_count": 2,
      "metadata": {
        "id": "h84h-G3ZyihN"
      },
      "outputs": [],
      "source": [
        "# basePath = \"/content/Wav2Lip-HD\"\n",
        "# !gdown https://drive.google.com/uc?id=1fQtBSYEyuai9MjBOF8j7zZ4oQ9W2N64q --output {basePath}'/checkpoints/'\n",
        "\n",
        "# !gdown https://drive.usercontent.google.com/uc?id=1Al8lEpnx2K-kDX7zL2DBcAuDnSKXACPb --output {basePath}/experiments/001_ESRGAN_x4_f64b23_custom16k_500k_B16G1_wandb/models/\n",
        "# !wget 'https://www.adrianbulat.com/downloads/python-fan/s3fd-619a316812.pth' -O {basePath}/face_detection/detection/sfd/s3fd.pth\n",
        "# !gdown https://drive.usercontent.google.com/uc?id=1gFTEVUql7YSXE_Uwf4EMONdAeL9N1kV2 --output {basePath}/Real-ESRGAN/gfpgan/weights/\n",
        "# !gdown https://drive.usercontent.google.com/uc?id=19aRK_JLna8a0KeUwV7LubHN3XGLyIpdX --output {basePath}/Real-ESRGAN/gfpgan/weights/\n",
        "# !gdown https://drive.usercontent.google.com/uc?id=1qNIf8cJl_dQo3ivelPJVWFkApyEAGnLi --output {basePath}/Real-ESRGAN/weights/RealESRGAN_x4plus.pth\n"
      ]
    },
    {
      "cell_type": "code",
      "execution_count": 3,
      "metadata": {
        "colab": {
          "base_uri": "https://localhost:8080/"
        },
        "id": "AUSH915wH2D1",
        "outputId": "131beaf0-9eb1-4634-fb1e-a6716bc38da1"
      },
      "outputs": [
        {
          "name": "stdout",
          "output_type": "stream",
          "text": [
            "Downloading...\n",
            "From: https://drive.google.com/uc?id=10Iu05Modfti3pDbxCFPnofmfVlbkvrCm\n",
            "To: /content/Wav2Lip-HD/checkpoints/wav2lip_gan.pth\n",
            "100% 436M/436M [00:04<00:00, 97.6MB/s]\n",
            "Loaded wav2lip_gan.pth\n",
            "Downloading...\n",
            "From: https://drive.google.com/uc?id=154JgKpzCPW82qINcVieuPH3fZ2e0P812\n",
            "To: /content/Wav2Lip-HD/checkpoints/face_segmentation.pth\n",
            "100% 53.3M/53.3M [00:00<00:00, 109MB/s] \n",
            "Loaded face_segmentation.pth\n",
            "Downloading...\n",
            "From: https://drive.google.com/uc?id=1aB-jqBikcZPJnFrJXWUEpvF2RFCuerSe\n",
            "To: /content/Wav2Lip-HD/checkpoints/esrgan_yunying.pth\n",
            "100% 67.0M/67.0M [00:00<00:00, 148MB/s] \n",
            "Loaded esrgan_yunying.pth\n",
            "Downloading...\n",
            "From: https://drive.google.com/uc?id=1_MGeOLdARWHylC1PCU2p5_FQztD4Bo7B\n",
            "To: /content/Wav2Lip-HD/checkpoints/pretrained.state\n",
            "100% 311M/311M [00:02<00:00, 131MB/s]\n",
            "Loaded pretrained.state\n"
          ]
        }
      ],
      "source": [
        "!python download_models.py"
      ]
    },
    {
      "cell_type": "code",
      "execution_count": 4,
      "metadata": {
        "id": "mvDq4rAA0Zr_"
      },
      "outputs": [],
      "source": [
        "filename=\"boss\"\n",
        "input_video=\"input_videos\"\n",
        "input_audio=\"input_audios/fandeng40s.wav\"\n",
        "frames_wav2lip=\"frames_wav2lip\"\n",
        "frames_hd=\"frames_hd\"\n",
        "output_videos_wav2lip=\"output_videos_wav2lip\"\n",
        "output_videos_hd=\"output_videos_hd\"\n",
        "back_dir=\"..\""
      ]
    },
    {
      "cell_type": "code",
      "execution_count": null,
      "metadata": {
        "colab": {
          "base_uri": "https://localhost:8080/"
        },
        "id": "4kdi4CoO0h-Q",
        "outputId": "b06ab3fe-6679-453a-a5ce-aa5ec92577a3"
      },
      "outputs": [
        {
          "name": "stdout",
          "output_type": "stream",
          "text": [
            "/content/Wav2Lip-HD\n",
            "hey... /content/Wav2Lip-HD\n",
            "hey... /content/Wav2Lip-HD\n",
            "hey... /content/Wav2Lip-HD\n",
            "Using cpu for inference.\n",
            "(80, 3201)\n",
            "Length of mel chunks: 2389\n",
            "  0% 0/19 [00:00<?, ?it/s]Reading video frames from start...\n",
            "Downloading: \"https://www.adrianbulat.com/downloads/python-fan/s3fd-619a316812.pth\" to /root/.cache/torch/hub/checkpoints/s3fd-619a316812.pth\n",
            "\n",
            "  0% 0.00/85.7M [00:00<?, ?B/s]\u001b[A\n",
            "  0% 32.0k/85.7M [00:00<05:08, 291kB/s]\u001b[A\n",
            "  0% 64.0k/85.7M [00:00<05:08, 291kB/s]\u001b[A\n",
            "  0% 128k/85.7M [00:00<04:22, 342kB/s] \u001b[A\n",
            "  0% 256k/85.7M [00:00<03:26, 433kB/s]\u001b[A\n",
            "  1% 496k/85.7M [00:00<02:36, 570kB/s]\u001b[A\n",
            "  1% 992k/85.7M [00:00<01:54, 772kB/s]\u001b[A\n",
            "  2% 1.94M/85.7M [00:00<01:22, 1.06MB/s]\u001b[A\n",
            "  5% 3.89M/85.7M [00:00<00:57, 1.48MB/s]\u001b[A\n",
            "  8% 6.84M/85.7M [00:01<00:39, 2.07MB/s]\u001b[A\n",
            " 10% 8.73M/85.7M [00:01<00:28, 2.82MB/s]\u001b[A\n",
            " 13% 11.4M/85.7M [00:01<00:20, 3.83MB/s]\u001b[A\n",
            " 17% 14.6M/85.7M [00:01<00:14, 5.19MB/s]\u001b[A\n",
            " 21% 17.8M/85.7M [00:01<00:10, 6.89MB/s]\u001b[A\n",
            " 24% 20.9M/85.7M [00:01<00:07, 8.93MB/s]\u001b[A\n",
            " 28% 23.8M/85.7M [00:01<00:05, 11.2MB/s]\u001b[A\n",
            " 32% 27.2M/85.7M [00:01<00:04, 13.8MB/s]\u001b[A\n",
            " 35% 30.0M/85.7M [00:01<00:03, 16.1MB/s]\u001b[A\n",
            " 39% 33.2M/85.7M [00:02<00:02, 18.6MB/s]\u001b[A\n",
            " 43% 36.4M/85.7M [00:02<00:02, 21.0MB/s]\u001b[A\n",
            " 46% 39.2M/85.7M [00:02<00:02, 22.2MB/s]\u001b[A\n",
            " 50% 42.9M/85.7M [00:02<00:01, 24.4MB/s]\u001b[A\n",
            " 53% 45.7M/85.7M [00:02<00:01, 24.8MB/s]\u001b[A\n",
            " 57% 48.9M/85.7M [00:02<00:01, 26.0MB/s]\u001b[A\n",
            " 60% 51.7M/85.7M [00:02<00:01, 26.2MB/s]\u001b[A\n",
            " 64% 54.7M/85.7M [00:02<00:01, 26.6MB/s]\u001b[A\n",
            " 68% 58.4M/85.7M [00:02<00:01, 28.4MB/s]\u001b[A\n",
            " 71% 61.2M/85.7M [00:03<00:00, 27.4MB/s]\u001b[A\n",
            " 75% 63.9M/85.7M [00:03<00:00, 26.9MB/s]\u001b[A\n",
            " 78% 67.1M/85.7M [00:03<00:00, 27.6MB/s]\u001b[A\n",
            " 82% 70.5M/85.7M [00:03<00:00, 28.8MB/s]\u001b[A\n",
            " 86% 73.6M/85.7M [00:03<00:00, 28.7MB/s]\u001b[A\n",
            " 89% 76.4M/85.7M [00:03<00:00, 27.5MB/s]\u001b[A\n",
            " 93% 79.9M/85.7M [00:03<00:00, 28.7MB/s]\u001b[A\n",
            "100% 85.7M/85.7M [00:03<00:00, 23.1MB/s]\n"
          ]
        }
      ],
      "source": [
        "%cd /content/Wav2Lip-HD\n",
        "!python3 inference.py --checkpoint_path \"checkpoints/wav2lip_gan.pth\" --segmentation_path \"checkpoints/face_segmentation.pth\" --sr_path \"checkpoints/esrgan_yunying.pth\" --face {input_video}/{filename}.mp4 --audio {input_audio} --save_frames --gt_path \"data/gt\" --pred_path \"data/lq\" --no_sr --no_segmentation --outfile {output_videos_wav2lip}/{filename}.mp4\n",
        "!python3 video2frames.py --input_video {output_videos_wav2lip}/{filename}.mp4 --frames_path {frames_wav2lip}/{filename}"
      ]
    },
    {
      "cell_type": "code",
      "execution_count": null,
      "metadata": {
        "id": "5BCMl7RkJAFb"
      },
      "outputs": [],
      "source": [
        "%cd Real-ESRGAN\n",
        "!python inference_realesrgan.py -n RealESRGAN_x4plus -i {back_dir}/{frames_wav2lip}/{filename} --output {back_dir}/{frames_hd}/{filename} --outscale 3.5 --face_enhance"
      ]
    },
    {
      "cell_type": "code",
      "execution_count": null,
      "metadata": {
        "id": "6VrDKYshQPEb"
      },
      "outputs": [],
      "source": [
        "!ffmpeg -r 20 -i {back_dir}/{frames_hd}/{filename}/frame_%05d_out.jpg -i {back_dir}/{input_audios} -vcodec libx264 -crf 25 -preset veryslow -acodec copy {back_dir}/{output_videos_hd}/{filename}.mkv"
      ]
    }
  ],
  "metadata": {
    "accelerator": "TPU",
    "colab": {
      "provenance": []
    },
    "kernelspec": {
      "display_name": "Python 3",
      "name": "python3"
    },
    "language_info": {
      "name": "python"
    }
  },
  "nbformat": 4,
  "nbformat_minor": 0
}
